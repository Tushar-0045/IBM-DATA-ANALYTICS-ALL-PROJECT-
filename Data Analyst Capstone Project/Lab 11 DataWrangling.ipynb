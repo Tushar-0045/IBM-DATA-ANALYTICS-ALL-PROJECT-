{
 "cells": [
  {
   "cell_type": "markdown",
   "metadata": {},
   "source": [
    "<p style=\"text-align:center\">\n",
    "    <a href=\"https://skills.network\" target=\"_blank\">\n",
    "    <img src=\"https://cf-courses-data.s3.us.cloud-object-storage.appdomain.cloud/assets/logos/SN_web_lightmode.png\" width=\"200\" alt=\"Skills Network Logo\"  />\n",
    "    </a>\n",
    "</p>\n"
   ]
  },
  {
   "cell_type": "markdown",
   "metadata": {},
   "source": [
    "# **Data Wrangling Lab**\n"
   ]
  },
  {
   "cell_type": "markdown",
   "metadata": {},
   "source": [
    "Estimated time needed: **45** minutes\n"
   ]
  },
  {
   "cell_type": "markdown",
   "metadata": {},
   "source": [
    "In this lab, you will perform data wrangling tasks to prepare raw data for analysis. Data wrangling involves cleaning, transforming, and organizing data into a structured format suitable for analysis. This lab focuses on tasks like identifying inconsistencies, encoding categorical variables, and feature transformation.\n"
   ]
  },
  {
   "cell_type": "markdown",
   "metadata": {},
   "source": [
    "## Objectives\n"
   ]
  },
  {
   "cell_type": "markdown",
   "metadata": {},
   "source": [
    "After completing this lab, you will be able to:\n"
   ]
  },
  {
   "cell_type": "markdown",
   "metadata": {},
   "source": [
    "- Identify and remove inconsistent data entries.\n",
    "\n",
    "- Encode categorical variables for analysis.\n",
    "\n",
    "- Handle missing values using multiple imputation strategies.\n",
    "\n",
    "- Apply feature scaling and transformation techniques.\n"
   ]
  },
  {
   "cell_type": "markdown",
   "metadata": {},
   "source": [
    "#### Intsall the required libraries\n"
   ]
  },
  {
   "cell_type": "code",
   "execution_count": 1,
   "metadata": {},
   "outputs": [
    {
     "name": "stdout",
     "output_type": "stream",
     "text": [
      "Requirement already satisfied: pandas in /opt/conda/lib/python3.12/site-packages (2.3.1)\n",
      "Requirement already satisfied: numpy>=1.26.0 in /opt/conda/lib/python3.12/site-packages (from pandas) (2.3.2)\n",
      "Requirement already satisfied: python-dateutil>=2.8.2 in /opt/conda/lib/python3.12/site-packages (from pandas) (2.9.0.post0)\n",
      "Requirement already satisfied: pytz>=2020.1 in /opt/conda/lib/python3.12/site-packages (from pandas) (2024.2)\n",
      "Requirement already satisfied: tzdata>=2022.7 in /opt/conda/lib/python3.12/site-packages (from pandas) (2025.2)\n",
      "Requirement already satisfied: six>=1.5 in /opt/conda/lib/python3.12/site-packages (from python-dateutil>=2.8.2->pandas) (1.17.0)\n",
      "Requirement already satisfied: matplotlib in /opt/conda/lib/python3.12/site-packages (3.10.5)\n",
      "Requirement already satisfied: contourpy>=1.0.1 in /opt/conda/lib/python3.12/site-packages (from matplotlib) (1.3.3)\n",
      "Requirement already satisfied: cycler>=0.10 in /opt/conda/lib/python3.12/site-packages (from matplotlib) (0.12.1)\n",
      "Requirement already satisfied: fonttools>=4.22.0 in /opt/conda/lib/python3.12/site-packages (from matplotlib) (4.59.0)\n",
      "Requirement already satisfied: kiwisolver>=1.3.1 in /opt/conda/lib/python3.12/site-packages (from matplotlib) (1.4.8)\n",
      "Requirement already satisfied: numpy>=1.23 in /opt/conda/lib/python3.12/site-packages (from matplotlib) (2.3.2)\n",
      "Requirement already satisfied: packaging>=20.0 in /opt/conda/lib/python3.12/site-packages (from matplotlib) (24.2)\n",
      "Requirement already satisfied: pillow>=8 in /opt/conda/lib/python3.12/site-packages (from matplotlib) (11.3.0)\n",
      "Requirement already satisfied: pyparsing>=2.3.1 in /opt/conda/lib/python3.12/site-packages (from matplotlib) (3.2.3)\n",
      "Requirement already satisfied: python-dateutil>=2.7 in /opt/conda/lib/python3.12/site-packages (from matplotlib) (2.9.0.post0)\n",
      "Requirement already satisfied: six>=1.5 in /opt/conda/lib/python3.12/site-packages (from python-dateutil>=2.7->matplotlib) (1.17.0)\n"
     ]
    }
   ],
   "source": [
    "!pip install pandas\n",
    "!pip install matplotlib"
   ]
  },
  {
   "cell_type": "markdown",
   "metadata": {},
   "source": [
    "## Tasks\n"
   ]
  },
  {
   "cell_type": "markdown",
   "metadata": {},
   "source": [
    "#### Step 1: Import the necessary module.\n"
   ]
  },
  {
   "cell_type": "markdown",
   "metadata": {},
   "source": [
    "### 1. Load the Dataset\n"
   ]
  },
  {
   "cell_type": "markdown",
   "metadata": {},
   "source": [
    "<h5>1.1 Import necessary libraries and load the dataset.</h5>\n"
   ]
  },
  {
   "cell_type": "markdown",
   "metadata": {},
   "source": [
    "Ensure the dataset is loaded correctly by displaying the first few rows.\n"
   ]
  },
  {
   "cell_type": "code",
   "execution_count": 2,
   "metadata": {},
   "outputs": [
    {
     "name": "stdout",
     "output_type": "stream",
     "text": [
      "   ResponseId                      MainBranch                 Age  \\\n",
      "0           1  I am a developer by profession  Under 18 years old   \n",
      "1           2  I am a developer by profession     35-44 years old   \n",
      "2           3  I am a developer by profession     45-54 years old   \n",
      "3           4           I am learning to code     18-24 years old   \n",
      "4           5  I am a developer by profession     18-24 years old   \n",
      "\n",
      "            Employment RemoteWork   Check  \\\n",
      "0  Employed, full-time     Remote  Apples   \n",
      "1  Employed, full-time     Remote  Apples   \n",
      "2  Employed, full-time     Remote  Apples   \n",
      "3   Student, full-time        NaN  Apples   \n",
      "4   Student, full-time        NaN  Apples   \n",
      "\n",
      "                                    CodingActivities  \\\n",
      "0                                              Hobby   \n",
      "1  Hobby;Contribute to open-source projects;Other...   \n",
      "2  Hobby;Contribute to open-source projects;Other...   \n",
      "3                                                NaN   \n",
      "4                                                NaN   \n",
      "\n",
      "                                             EdLevel  \\\n",
      "0                          Primary/elementary school   \n",
      "1       Bachelor’s degree (B.A., B.S., B.Eng., etc.)   \n",
      "2    Master’s degree (M.A., M.S., M.Eng., MBA, etc.)   \n",
      "3  Some college/university study without earning ...   \n",
      "4  Secondary school (e.g. American high school, G...   \n",
      "\n",
      "                                           LearnCode  \\\n",
      "0                             Books / Physical media   \n",
      "1  Books / Physical media;Colleague;On the job tr...   \n",
      "2  Books / Physical media;Colleague;On the job tr...   \n",
      "3  Other online resources (e.g., videos, blogs, f...   \n",
      "4  Other online resources (e.g., videos, blogs, f...   \n",
      "\n",
      "                                     LearnCodeOnline  ... JobSatPoints_6  \\\n",
      "0                                                NaN  ...            NaN   \n",
      "1  Technical documentation;Blogs;Books;Written Tu...  ...            0.0   \n",
      "2  Technical documentation;Blogs;Books;Written Tu...  ...            NaN   \n",
      "3  Stack Overflow;How-to videos;Interactive tutorial  ...            NaN   \n",
      "4  Technical documentation;Blogs;Written Tutorial...  ...            NaN   \n",
      "\n",
      "  JobSatPoints_7 JobSatPoints_8 JobSatPoints_9 JobSatPoints_10  \\\n",
      "0            NaN            NaN            NaN             NaN   \n",
      "1            0.0            0.0            0.0             0.0   \n",
      "2            NaN            NaN            NaN             NaN   \n",
      "3            NaN            NaN            NaN             NaN   \n",
      "4            NaN            NaN            NaN             NaN   \n",
      "\n",
      "  JobSatPoints_11           SurveyLength SurveyEase ConvertedCompYearly JobSat  \n",
      "0             NaN                    NaN        NaN                 NaN    NaN  \n",
      "1             0.0                    NaN        NaN                 NaN    NaN  \n",
      "2             NaN  Appropriate in length       Easy                 NaN    NaN  \n",
      "3             NaN               Too long       Easy                 NaN    NaN  \n",
      "4             NaN              Too short       Easy                 NaN    NaN  \n",
      "\n",
      "[5 rows x 114 columns]\n"
     ]
    }
   ],
   "source": [
    "# Import necessary libraries\n",
    "import pandas as pd\n",
    "\n",
    "# Load the Stack Overflow survey data\n",
    "dataset_url = \"https://cf-courses-data.s3.us.cloud-object-storage.appdomain.cloud/n01PQ9pSmiRX6520flujwQ/survey-data.csv\"\n",
    "df = pd.read_csv(dataset_url)\n",
    "\n",
    "# Display the first few rows\n",
    "print(df.head())\n"
   ]
  },
  {
   "cell_type": "markdown",
   "metadata": {},
   "source": [
    "#### 2. Explore the Dataset\n"
   ]
  },
  {
   "cell_type": "markdown",
   "metadata": {},
   "source": [
    "<h5>2.1 Summarize the dataset by displaying the column data types, counts, and missing values.</h5>\n"
   ]
  },
  {
   "cell_type": "code",
   "execution_count": 3,
   "metadata": {},
   "outputs": [
    {
     "name": "stdout",
     "output_type": "stream",
     "text": [
      "🔍 Dataset Summary:\n"
     ]
    },
    {
     "data": {
      "text/html": [
       "<div>\n",
       "<style scoped>\n",
       "    .dataframe tbody tr th:only-of-type {\n",
       "        vertical-align: middle;\n",
       "    }\n",
       "\n",
       "    .dataframe tbody tr th {\n",
       "        vertical-align: top;\n",
       "    }\n",
       "\n",
       "    .dataframe thead th {\n",
       "        text-align: right;\n",
       "    }\n",
       "</style>\n",
       "<table border=\"1\" class=\"dataframe\">\n",
       "  <thead>\n",
       "    <tr style=\"text-align: right;\">\n",
       "      <th></th>\n",
       "      <th>Data Type</th>\n",
       "      <th>Non-Null Count</th>\n",
       "      <th>Null Count</th>\n",
       "      <th>% Missing</th>\n",
       "    </tr>\n",
       "  </thead>\n",
       "  <tbody>\n",
       "    <tr>\n",
       "      <th>ResponseId</th>\n",
       "      <td>int64</td>\n",
       "      <td>65437</td>\n",
       "      <td>0</td>\n",
       "      <td>0.000000</td>\n",
       "    </tr>\n",
       "    <tr>\n",
       "      <th>MainBranch</th>\n",
       "      <td>object</td>\n",
       "      <td>65437</td>\n",
       "      <td>0</td>\n",
       "      <td>0.000000</td>\n",
       "    </tr>\n",
       "    <tr>\n",
       "      <th>Age</th>\n",
       "      <td>object</td>\n",
       "      <td>65437</td>\n",
       "      <td>0</td>\n",
       "      <td>0.000000</td>\n",
       "    </tr>\n",
       "    <tr>\n",
       "      <th>Employment</th>\n",
       "      <td>object</td>\n",
       "      <td>65437</td>\n",
       "      <td>0</td>\n",
       "      <td>0.000000</td>\n",
       "    </tr>\n",
       "    <tr>\n",
       "      <th>RemoteWork</th>\n",
       "      <td>object</td>\n",
       "      <td>54806</td>\n",
       "      <td>10631</td>\n",
       "      <td>16.246160</td>\n",
       "    </tr>\n",
       "    <tr>\n",
       "      <th>...</th>\n",
       "      <td>...</td>\n",
       "      <td>...</td>\n",
       "      <td>...</td>\n",
       "      <td>...</td>\n",
       "    </tr>\n",
       "    <tr>\n",
       "      <th>JobSatPoints_11</th>\n",
       "      <td>float64</td>\n",
       "      <td>29445</td>\n",
       "      <td>35992</td>\n",
       "      <td>55.002522</td>\n",
       "    </tr>\n",
       "    <tr>\n",
       "      <th>SurveyLength</th>\n",
       "      <td>object</td>\n",
       "      <td>56182</td>\n",
       "      <td>9255</td>\n",
       "      <td>14.143375</td>\n",
       "    </tr>\n",
       "    <tr>\n",
       "      <th>SurveyEase</th>\n",
       "      <td>object</td>\n",
       "      <td>56238</td>\n",
       "      <td>9199</td>\n",
       "      <td>14.057796</td>\n",
       "    </tr>\n",
       "    <tr>\n",
       "      <th>ConvertedCompYearly</th>\n",
       "      <td>float64</td>\n",
       "      <td>23435</td>\n",
       "      <td>42002</td>\n",
       "      <td>64.186928</td>\n",
       "    </tr>\n",
       "    <tr>\n",
       "      <th>JobSat</th>\n",
       "      <td>float64</td>\n",
       "      <td>29126</td>\n",
       "      <td>36311</td>\n",
       "      <td>55.490013</td>\n",
       "    </tr>\n",
       "  </tbody>\n",
       "</table>\n",
       "<p>114 rows × 4 columns</p>\n",
       "</div>"
      ],
      "text/plain": [
       "                    Data Type  Non-Null Count  Null Count  % Missing\n",
       "ResponseId              int64           65437           0   0.000000\n",
       "MainBranch             object           65437           0   0.000000\n",
       "Age                    object           65437           0   0.000000\n",
       "Employment             object           65437           0   0.000000\n",
       "RemoteWork             object           54806       10631  16.246160\n",
       "...                       ...             ...         ...        ...\n",
       "JobSatPoints_11       float64           29445       35992  55.002522\n",
       "SurveyLength           object           56182        9255  14.143375\n",
       "SurveyEase             object           56238        9199  14.057796\n",
       "ConvertedCompYearly   float64           23435       42002  64.186928\n",
       "JobSat                float64           29126       36311  55.490013\n",
       "\n",
       "[114 rows x 4 columns]"
      ]
     },
     "metadata": {},
     "output_type": "display_data"
    }
   ],
   "source": [
    "# Comprehensive dataset info\n",
    "print(\"🔍 Dataset Summary:\")\n",
    "df_info = pd.DataFrame({\n",
    "    'Data Type': df.dtypes,\n",
    "    'Non-Null Count': df.count(),\n",
    "    'Null Count': df.isnull().sum(),\n",
    "    '% Missing': (df.isnull().sum() / len(df)) * 100\n",
    "})\n",
    "display(df_info)"
   ]
  },
  {
   "cell_type": "markdown",
   "metadata": {},
   "source": [
    "<h5>2.2 Generate basic statistics for numerical columns.</h5>\n"
   ]
  },
  {
   "cell_type": "code",
   "execution_count": 4,
   "metadata": {},
   "outputs": [
    {
     "name": "stdout",
     "output_type": "stream",
     "text": [
      "📊 Numerical Statistics:\n"
     ]
    },
    {
     "data": {
      "text/html": [
       "<style type=\"text/css\">\n",
       "#T_655d3_row0_col0, #T_655d3_row0_col3, #T_655d3_row1_col1, #T_655d3_row1_col2, #T_655d3_row1_col4, #T_655d3_row1_col5, #T_655d3_row1_col6, #T_655d3_row1_col7, #T_655d3_row12_col3 {\n",
       "  background-color: #08306b;\n",
       "  color: #f1f1f1;\n",
       "}\n",
       "#T_655d3_row0_col1, #T_655d3_row0_col2, #T_655d3_row0_col7, #T_655d3_row1_col3, #T_655d3_row2_col1, #T_655d3_row2_col2, #T_655d3_row2_col3, #T_655d3_row2_col4, #T_655d3_row2_col5, #T_655d3_row2_col6, #T_655d3_row2_col7, #T_655d3_row3_col1, #T_655d3_row3_col2, #T_655d3_row3_col3, #T_655d3_row3_col4, #T_655d3_row3_col5, #T_655d3_row3_col6, #T_655d3_row3_col7, #T_655d3_row4_col1, #T_655d3_row4_col2, #T_655d3_row4_col3, #T_655d3_row4_col4, #T_655d3_row4_col5, #T_655d3_row4_col6, #T_655d3_row4_col7, #T_655d3_row5_col1, #T_655d3_row5_col2, #T_655d3_row5_col3, #T_655d3_row5_col4, #T_655d3_row5_col5, #T_655d3_row5_col6, #T_655d3_row5_col7, #T_655d3_row6_col1, #T_655d3_row6_col2, #T_655d3_row6_col3, #T_655d3_row6_col4, #T_655d3_row6_col5, #T_655d3_row6_col6, #T_655d3_row6_col7, #T_655d3_row7_col1, #T_655d3_row7_col2, #T_655d3_row7_col3, #T_655d3_row7_col4, #T_655d3_row7_col5, #T_655d3_row7_col6, #T_655d3_row7_col7, #T_655d3_row8_col1, #T_655d3_row8_col2, #T_655d3_row8_col3, #T_655d3_row8_col4, #T_655d3_row8_col5, #T_655d3_row8_col6, #T_655d3_row8_col7, #T_655d3_row9_col1, #T_655d3_row9_col2, #T_655d3_row9_col3, #T_655d3_row9_col4, #T_655d3_row9_col5, #T_655d3_row9_col6, #T_655d3_row9_col7, #T_655d3_row10_col1, #T_655d3_row10_col2, #T_655d3_row10_col3, #T_655d3_row10_col4, #T_655d3_row10_col5, #T_655d3_row10_col6, #T_655d3_row10_col7, #T_655d3_row11_col1, #T_655d3_row11_col2, #T_655d3_row11_col3, #T_655d3_row11_col4, #T_655d3_row11_col5, #T_655d3_row11_col6, #T_655d3_row11_col7, #T_655d3_row12_col0, #T_655d3_row12_col1, #T_655d3_row12_col2, #T_655d3_row12_col7, #T_655d3_row13_col1, #T_655d3_row13_col2, #T_655d3_row13_col3, #T_655d3_row13_col4, #T_655d3_row13_col5, #T_655d3_row13_col6, #T_655d3_row13_col7 {\n",
       "  background-color: #f7fbff;\n",
       "  color: #000000;\n",
       "}\n",
       "#T_655d3_row0_col4 {\n",
       "  background-color: #bfd8ed;\n",
       "  color: #000000;\n",
       "}\n",
       "#T_655d3_row0_col5 {\n",
       "  background-color: #b7d4ea;\n",
       "  color: #000000;\n",
       "}\n",
       "#T_655d3_row0_col6 {\n",
       "  background-color: #d0e2f2;\n",
       "  color: #000000;\n",
       "}\n",
       "#T_655d3_row1_col0 {\n",
       "  background-color: #c7dcef;\n",
       "  color: #000000;\n",
       "}\n",
       "#T_655d3_row2_col0 {\n",
       "  background-color: #dae8f6;\n",
       "  color: #000000;\n",
       "}\n",
       "#T_655d3_row3_col0 {\n",
       "  background-color: #dce9f6;\n",
       "  color: #000000;\n",
       "}\n",
       "#T_655d3_row4_col0, #T_655d3_row5_col0, #T_655d3_row6_col0, #T_655d3_row7_col0, #T_655d3_row8_col0, #T_655d3_row9_col0, #T_655d3_row10_col0, #T_655d3_row11_col0 {\n",
       "  background-color: #dbe9f6;\n",
       "  color: #000000;\n",
       "}\n",
       "#T_655d3_row12_col4 {\n",
       "  background-color: #5ca4d0;\n",
       "  color: #f1f1f1;\n",
       "}\n",
       "#T_655d3_row12_col5 {\n",
       "  background-color: #4d99ca;\n",
       "  color: #f1f1f1;\n",
       "}\n",
       "#T_655d3_row12_col6 {\n",
       "  background-color: #87bddc;\n",
       "  color: #000000;\n",
       "}\n",
       "#T_655d3_row13_col0 {\n",
       "  background-color: #dceaf6;\n",
       "  color: #000000;\n",
       "}\n",
       "</style>\n",
       "<table id=\"T_655d3\">\n",
       "  <thead>\n",
       "    <tr>\n",
       "      <th class=\"blank level0\" >&nbsp;</th>\n",
       "      <th id=\"T_655d3_level0_col0\" class=\"col_heading level0 col0\" >count</th>\n",
       "      <th id=\"T_655d3_level0_col1\" class=\"col_heading level0 col1\" >mean</th>\n",
       "      <th id=\"T_655d3_level0_col2\" class=\"col_heading level0 col2\" >std</th>\n",
       "      <th id=\"T_655d3_level0_col3\" class=\"col_heading level0 col3\" >min</th>\n",
       "      <th id=\"T_655d3_level0_col4\" class=\"col_heading level0 col4\" >25%</th>\n",
       "      <th id=\"T_655d3_level0_col5\" class=\"col_heading level0 col5\" >50%</th>\n",
       "      <th id=\"T_655d3_level0_col6\" class=\"col_heading level0 col6\" >75%</th>\n",
       "      <th id=\"T_655d3_level0_col7\" class=\"col_heading level0 col7\" >max</th>\n",
       "    </tr>\n",
       "  </thead>\n",
       "  <tbody>\n",
       "    <tr>\n",
       "      <th id=\"T_655d3_level0_row0\" class=\"row_heading level0 row0\" >ResponseId</th>\n",
       "      <td id=\"T_655d3_row0_col0\" class=\"data row0 col0\" >65437.000000</td>\n",
       "      <td id=\"T_655d3_row0_col1\" class=\"data row0 col1\" >32719.000000</td>\n",
       "      <td id=\"T_655d3_row0_col2\" class=\"data row0 col2\" >18890.180000</td>\n",
       "      <td id=\"T_655d3_row0_col3\" class=\"data row0 col3\" >1.000000</td>\n",
       "      <td id=\"T_655d3_row0_col4\" class=\"data row0 col4\" >16360.000000</td>\n",
       "      <td id=\"T_655d3_row0_col5\" class=\"data row0 col5\" >32719.000000</td>\n",
       "      <td id=\"T_655d3_row0_col6\" class=\"data row0 col6\" >49078.000000</td>\n",
       "      <td id=\"T_655d3_row0_col7\" class=\"data row0 col7\" >65437.000000</td>\n",
       "    </tr>\n",
       "    <tr>\n",
       "      <th id=\"T_655d3_level0_row1\" class=\"row_heading level0 row1\" >CompTotal</th>\n",
       "      <td id=\"T_655d3_row1_col0\" class=\"data row1 col0\" >33740.000000</td>\n",
       "      <td id=\"T_655d3_row1_col1\" class=\"data row1 col1\" >29638411381149976434844996221255135810973346761641119443102059683642337023745002072541016011726778410233362892066394456411829798103125811458473984.000000</td>\n",
       "      <td id=\"T_655d3_row1_col2\" class=\"data row1 col2\" >5444117135142297852662284923089891085287507383810550263112532649055881882177265287407295512315682219200529825363197301258665890740227694357794258944.000000</td>\n",
       "      <td id=\"T_655d3_row1_col3\" class=\"data row1 col3\" >0.000000</td>\n",
       "      <td id=\"T_655d3_row1_col4\" class=\"data row1 col4\" >60000.000000</td>\n",
       "      <td id=\"T_655d3_row1_col5\" class=\"data row1 col5\" >110000.000000</td>\n",
       "      <td id=\"T_655d3_row1_col6\" class=\"data row1 col6\" >250000.000000</td>\n",
       "      <td id=\"T_655d3_row1_col7\" class=\"data row1 col7\" >1000000000000000162545277246339097227904071986031452381501504981983615182576228378136120296965701983510464738707067395631197433897752887331883780669440.000000</td>\n",
       "    </tr>\n",
       "    <tr>\n",
       "      <th id=\"T_655d3_level0_row2\" class=\"row_heading level0 row2\" >WorkExp</th>\n",
       "      <td id=\"T_655d3_row2_col0\" class=\"data row2 col0\" >29658.000000</td>\n",
       "      <td id=\"T_655d3_row2_col1\" class=\"data row2 col1\" >11.470000</td>\n",
       "      <td id=\"T_655d3_row2_col2\" class=\"data row2 col2\" >9.170000</td>\n",
       "      <td id=\"T_655d3_row2_col3\" class=\"data row2 col3\" >0.000000</td>\n",
       "      <td id=\"T_655d3_row2_col4\" class=\"data row2 col4\" >4.000000</td>\n",
       "      <td id=\"T_655d3_row2_col5\" class=\"data row2 col5\" >9.000000</td>\n",
       "      <td id=\"T_655d3_row2_col6\" class=\"data row2 col6\" >16.000000</td>\n",
       "      <td id=\"T_655d3_row2_col7\" class=\"data row2 col7\" >50.000000</td>\n",
       "    </tr>\n",
       "    <tr>\n",
       "      <th id=\"T_655d3_level0_row3\" class=\"row_heading level0 row3\" >JobSatPoints_1</th>\n",
       "      <td id=\"T_655d3_row3_col0\" class=\"data row3 col0\" >29324.000000</td>\n",
       "      <td id=\"T_655d3_row3_col1\" class=\"data row3 col1\" >18.580000</td>\n",
       "      <td id=\"T_655d3_row3_col2\" class=\"data row3 col2\" >25.970000</td>\n",
       "      <td id=\"T_655d3_row3_col3\" class=\"data row3 col3\" >0.000000</td>\n",
       "      <td id=\"T_655d3_row3_col4\" class=\"data row3 col4\" >0.000000</td>\n",
       "      <td id=\"T_655d3_row3_col5\" class=\"data row3 col5\" >10.000000</td>\n",
       "      <td id=\"T_655d3_row3_col6\" class=\"data row3 col6\" >22.000000</td>\n",
       "      <td id=\"T_655d3_row3_col7\" class=\"data row3 col7\" >100.000000</td>\n",
       "    </tr>\n",
       "    <tr>\n",
       "      <th id=\"T_655d3_level0_row4\" class=\"row_heading level0 row4\" >JobSatPoints_4</th>\n",
       "      <td id=\"T_655d3_row4_col0\" class=\"data row4 col0\" >29393.000000</td>\n",
       "      <td id=\"T_655d3_row4_col1\" class=\"data row4 col1\" >7.520000</td>\n",
       "      <td id=\"T_655d3_row4_col2\" class=\"data row4 col2\" >18.420000</td>\n",
       "      <td id=\"T_655d3_row4_col3\" class=\"data row4 col3\" >0.000000</td>\n",
       "      <td id=\"T_655d3_row4_col4\" class=\"data row4 col4\" >0.000000</td>\n",
       "      <td id=\"T_655d3_row4_col5\" class=\"data row4 col5\" >0.000000</td>\n",
       "      <td id=\"T_655d3_row4_col6\" class=\"data row4 col6\" >5.000000</td>\n",
       "      <td id=\"T_655d3_row4_col7\" class=\"data row4 col7\" >100.000000</td>\n",
       "    </tr>\n",
       "    <tr>\n",
       "      <th id=\"T_655d3_level0_row5\" class=\"row_heading level0 row5\" >JobSatPoints_5</th>\n",
       "      <td id=\"T_655d3_row5_col0\" class=\"data row5 col0\" >29411.000000</td>\n",
       "      <td id=\"T_655d3_row5_col1\" class=\"data row5 col1\" >10.060000</td>\n",
       "      <td id=\"T_655d3_row5_col2\" class=\"data row5 col2\" >21.830000</td>\n",
       "      <td id=\"T_655d3_row5_col3\" class=\"data row5 col3\" >0.000000</td>\n",
       "      <td id=\"T_655d3_row5_col4\" class=\"data row5 col4\" >0.000000</td>\n",
       "      <td id=\"T_655d3_row5_col5\" class=\"data row5 col5\" >0.000000</td>\n",
       "      <td id=\"T_655d3_row5_col6\" class=\"data row5 col6\" >10.000000</td>\n",
       "      <td id=\"T_655d3_row5_col7\" class=\"data row5 col7\" >100.000000</td>\n",
       "    </tr>\n",
       "    <tr>\n",
       "      <th id=\"T_655d3_level0_row6\" class=\"row_heading level0 row6\" >JobSatPoints_6</th>\n",
       "      <td id=\"T_655d3_row6_col0\" class=\"data row6 col0\" >29450.000000</td>\n",
       "      <td id=\"T_655d3_row6_col1\" class=\"data row6 col1\" >24.340000</td>\n",
       "      <td id=\"T_655d3_row6_col2\" class=\"data row6 col2\" >27.090000</td>\n",
       "      <td id=\"T_655d3_row6_col3\" class=\"data row6 col3\" >0.000000</td>\n",
       "      <td id=\"T_655d3_row6_col4\" class=\"data row6 col4\" >0.000000</td>\n",
       "      <td id=\"T_655d3_row6_col5\" class=\"data row6 col5\" >20.000000</td>\n",
       "      <td id=\"T_655d3_row6_col6\" class=\"data row6 col6\" >30.000000</td>\n",
       "      <td id=\"T_655d3_row6_col7\" class=\"data row6 col7\" >100.000000</td>\n",
       "    </tr>\n",
       "    <tr>\n",
       "      <th id=\"T_655d3_level0_row7\" class=\"row_heading level0 row7\" >JobSatPoints_7</th>\n",
       "      <td id=\"T_655d3_row7_col0\" class=\"data row7 col0\" >29448.000000</td>\n",
       "      <td id=\"T_655d3_row7_col1\" class=\"data row7 col1\" >22.970000</td>\n",
       "      <td id=\"T_655d3_row7_col2\" class=\"data row7 col2\" >27.020000</td>\n",
       "      <td id=\"T_655d3_row7_col3\" class=\"data row7 col3\" >0.000000</td>\n",
       "      <td id=\"T_655d3_row7_col4\" class=\"data row7 col4\" >0.000000</td>\n",
       "      <td id=\"T_655d3_row7_col5\" class=\"data row7 col5\" >15.000000</td>\n",
       "      <td id=\"T_655d3_row7_col6\" class=\"data row7 col6\" >30.000000</td>\n",
       "      <td id=\"T_655d3_row7_col7\" class=\"data row7 col7\" >100.000000</td>\n",
       "    </tr>\n",
       "    <tr>\n",
       "      <th id=\"T_655d3_level0_row8\" class=\"row_heading level0 row8\" >JobSatPoints_8</th>\n",
       "      <td id=\"T_655d3_row8_col0\" class=\"data row8 col0\" >29456.000000</td>\n",
       "      <td id=\"T_655d3_row8_col1\" class=\"data row8 col1\" >20.280000</td>\n",
       "      <td id=\"T_655d3_row8_col2\" class=\"data row8 col2\" >26.110000</td>\n",
       "      <td id=\"T_655d3_row8_col3\" class=\"data row8 col3\" >0.000000</td>\n",
       "      <td id=\"T_655d3_row8_col4\" class=\"data row8 col4\" >0.000000</td>\n",
       "      <td id=\"T_655d3_row8_col5\" class=\"data row8 col5\" >10.000000</td>\n",
       "      <td id=\"T_655d3_row8_col6\" class=\"data row8 col6\" >25.000000</td>\n",
       "      <td id=\"T_655d3_row8_col7\" class=\"data row8 col7\" >100.000000</td>\n",
       "    </tr>\n",
       "    <tr>\n",
       "      <th id=\"T_655d3_level0_row9\" class=\"row_heading level0 row9\" >JobSatPoints_9</th>\n",
       "      <td id=\"T_655d3_row9_col0\" class=\"data row9 col0\" >29456.000000</td>\n",
       "      <td id=\"T_655d3_row9_col1\" class=\"data row9 col1\" >16.170000</td>\n",
       "      <td id=\"T_655d3_row9_col2\" class=\"data row9 col2\" >24.850000</td>\n",
       "      <td id=\"T_655d3_row9_col3\" class=\"data row9 col3\" >0.000000</td>\n",
       "      <td id=\"T_655d3_row9_col4\" class=\"data row9 col4\" >0.000000</td>\n",
       "      <td id=\"T_655d3_row9_col5\" class=\"data row9 col5\" >5.000000</td>\n",
       "      <td id=\"T_655d3_row9_col6\" class=\"data row9 col6\" >20.000000</td>\n",
       "      <td id=\"T_655d3_row9_col7\" class=\"data row9 col7\" >100.000000</td>\n",
       "    </tr>\n",
       "    <tr>\n",
       "      <th id=\"T_655d3_level0_row10\" class=\"row_heading level0 row10\" >JobSatPoints_10</th>\n",
       "      <td id=\"T_655d3_row10_col0\" class=\"data row10 col0\" >29450.000000</td>\n",
       "      <td id=\"T_655d3_row10_col1\" class=\"data row10 col1\" >10.960000</td>\n",
       "      <td id=\"T_655d3_row10_col2\" class=\"data row10 col2\" >22.910000</td>\n",
       "      <td id=\"T_655d3_row10_col3\" class=\"data row10 col3\" >0.000000</td>\n",
       "      <td id=\"T_655d3_row10_col4\" class=\"data row10 col4\" >0.000000</td>\n",
       "      <td id=\"T_655d3_row10_col5\" class=\"data row10 col5\" >0.000000</td>\n",
       "      <td id=\"T_655d3_row10_col6\" class=\"data row10 col6\" >10.000000</td>\n",
       "      <td id=\"T_655d3_row10_col7\" class=\"data row10 col7\" >100.000000</td>\n",
       "    </tr>\n",
       "    <tr>\n",
       "      <th id=\"T_655d3_level0_row11\" class=\"row_heading level0 row11\" >JobSatPoints_11</th>\n",
       "      <td id=\"T_655d3_row11_col0\" class=\"data row11 col0\" >29445.000000</td>\n",
       "      <td id=\"T_655d3_row11_col1\" class=\"data row11 col1\" >9.950000</td>\n",
       "      <td id=\"T_655d3_row11_col2\" class=\"data row11 col2\" >21.780000</td>\n",
       "      <td id=\"T_655d3_row11_col3\" class=\"data row11 col3\" >0.000000</td>\n",
       "      <td id=\"T_655d3_row11_col4\" class=\"data row11 col4\" >0.000000</td>\n",
       "      <td id=\"T_655d3_row11_col5\" class=\"data row11 col5\" >0.000000</td>\n",
       "      <td id=\"T_655d3_row11_col6\" class=\"data row11 col6\" >10.000000</td>\n",
       "      <td id=\"T_655d3_row11_col7\" class=\"data row11 col7\" >100.000000</td>\n",
       "    </tr>\n",
       "    <tr>\n",
       "      <th id=\"T_655d3_level0_row12\" class=\"row_heading level0 row12\" >ConvertedCompYearly</th>\n",
       "      <td id=\"T_655d3_row12_col0\" class=\"data row12 col0\" >23435.000000</td>\n",
       "      <td id=\"T_655d3_row12_col1\" class=\"data row12 col1\" >86155.290000</td>\n",
       "      <td id=\"T_655d3_row12_col2\" class=\"data row12 col2\" >186756.970000</td>\n",
       "      <td id=\"T_655d3_row12_col3\" class=\"data row12 col3\" >1.000000</td>\n",
       "      <td id=\"T_655d3_row12_col4\" class=\"data row12 col4\" >32712.000000</td>\n",
       "      <td id=\"T_655d3_row12_col5\" class=\"data row12 col5\" >65000.000000</td>\n",
       "      <td id=\"T_655d3_row12_col6\" class=\"data row12 col6\" >107971.500000</td>\n",
       "      <td id=\"T_655d3_row12_col7\" class=\"data row12 col7\" >16256603.000000</td>\n",
       "    </tr>\n",
       "    <tr>\n",
       "      <th id=\"T_655d3_level0_row13\" class=\"row_heading level0 row13\" >JobSat</th>\n",
       "      <td id=\"T_655d3_row13_col0\" class=\"data row13 col0\" >29126.000000</td>\n",
       "      <td id=\"T_655d3_row13_col1\" class=\"data row13 col1\" >6.940000</td>\n",
       "      <td id=\"T_655d3_row13_col2\" class=\"data row13 col2\" >2.090000</td>\n",
       "      <td id=\"T_655d3_row13_col3\" class=\"data row13 col3\" >0.000000</td>\n",
       "      <td id=\"T_655d3_row13_col4\" class=\"data row13 col4\" >6.000000</td>\n",
       "      <td id=\"T_655d3_row13_col5\" class=\"data row13 col5\" >7.000000</td>\n",
       "      <td id=\"T_655d3_row13_col6\" class=\"data row13 col6\" >8.000000</td>\n",
       "      <td id=\"T_655d3_row13_col7\" class=\"data row13 col7\" >10.000000</td>\n",
       "    </tr>\n",
       "  </tbody>\n",
       "</table>\n"
      ],
      "text/plain": [
       "<pandas.io.formats.style.Styler at 0x74dd917400b0>"
      ]
     },
     "metadata": {},
     "output_type": "display_data"
    }
   ],
   "source": [
    "# Enhanced numerical stats\n",
    "print(\"📊 Numerical Statistics:\")\n",
    "num_cols = df.select_dtypes(include=['int64','float64']).columns\n",
    "display(df[num_cols].describe().round(2).T.style.background_gradient(cmap='Blues'))"
   ]
  },
  {
   "cell_type": "markdown",
   "metadata": {},
   "source": [
    "### 3. Identifying and Removing Inconsistencies\n"
   ]
  },
  {
   "cell_type": "markdown",
   "metadata": {},
   "source": [
    "<h5>3.1 Identify inconsistent or irrelevant entries in specific columns (e.g., Country).</h5>\n"
   ]
  },
  {
   "cell_type": "code",
   "execution_count": 5,
   "metadata": {},
   "outputs": [
    {
     "name": "stdout",
     "output_type": "stream",
     "text": [
      "🌍 Unique Country Values:\n",
      "['United States of America'\n",
      " 'United Kingdom of Great Britain and Northern Ireland' 'Canada' 'Norway'\n",
      " 'Uzbekistan' 'Serbia' 'Poland' 'Philippines' 'Bulgaria' 'Switzerland'\n",
      " 'India' 'Germany' 'Ireland' 'Italy' 'Ukraine' 'Australia' 'Brazil'\n",
      " 'Japan' 'Austria' 'Iran, Islamic Republic of...']\n",
      "\n",
      "Potential Inconsistencies:\n",
      "[]\n"
     ]
    }
   ],
   "source": [
    "# Check for inconsistent country names\n",
    "print(\"🌍 Unique Country Values:\")\n",
    "print(df['Country'].unique()[:20])  # Show first 20 unique values\n",
    "\n",
    "# Find entries with unusual formatting\n",
    "print(\"\\nPotential Inconsistencies:\")\n",
    "print(df[df['Country'].str.contains('[0-9]|test|example', case=False, na=False)]['Country'].unique())"
   ]
  },
  {
   "cell_type": "markdown",
   "metadata": {},
   "source": [
    "<h5>3.2 Standardize entries in columns like Country or EdLevel by mapping inconsistent values to a consistent format.</h5>\n"
   ]
  },
  {
   "cell_type": "code",
   "execution_count": 6,
   "metadata": {},
   "outputs": [
    {
     "name": "stdout",
     "output_type": "stream",
     "text": [
      "\n",
      "Standardized Countries:\n",
      "Country\n",
      "United States Of America                                11095\n",
      "Germany                                                  4947\n",
      "India                                                    4231\n",
      "United Kingdom Of Great Britain And Northern Ireland     3224\n",
      "Ukraine                                                  2672\n",
      "France                                                   2110\n",
      "Canada                                                   2104\n",
      "Poland                                                   1534\n",
      "Netherlands                                              1449\n",
      "Brazil                                                   1375\n",
      "Name: count, dtype: int64\n"
     ]
    }
   ],
   "source": [
    "# Standardize country names\n",
    "country_mapping = {\n",
    "    'US': 'United States',\n",
    "    'USA': 'United States',\n",
    "    'UK': 'United Kingdom',\n",
    "    'U.K.': 'United Kingdom'\n",
    "}\n",
    "df['Country'] = df['Country'].replace(country_mapping).str.title()\n",
    "\n",
    "# Verify standardization\n",
    "print(\"\\nStandardized Countries:\")\n",
    "print(df['Country'].value_counts().head(10))"
   ]
  },
  {
   "cell_type": "markdown",
   "metadata": {},
   "source": [
    "### 4. Encoding Categorical Variables\n"
   ]
  },
  {
   "cell_type": "markdown",
   "metadata": {},
   "source": [
    "<h5>4.1 Encode the Employment column using one-hot encoding.</h5>\n"
   ]
  },
  {
   "cell_type": "code",
   "execution_count": 7,
   "metadata": {},
   "outputs": [
    {
     "name": "stdout",
     "output_type": "stream",
     "text": [
      "Encoded Employment Columns:\n",
      "['Employment_Employed, full-time;Employed, part-time', 'Employment_Employed, full-time;Independent contractor, freelancer, or self-employed', 'Employment_Employed, full-time;Independent contractor, freelancer, or self-employed;Employed, part-time', 'Employment_Employed, full-time;Independent contractor, freelancer, or self-employed;Employed, part-time;Retired', 'Employment_Employed, full-time;Independent contractor, freelancer, or self-employed;Not employed, and not looking for work', 'Employment_Employed, full-time;Independent contractor, freelancer, or self-employed;Not employed, and not looking for work;Employed, part-time', 'Employment_Employed, full-time;Independent contractor, freelancer, or self-employed;Not employed, and not looking for work;Student, part-time', 'Employment_Employed, full-time;Independent contractor, freelancer, or self-employed;Retired', 'Employment_Employed, full-time;Independent contractor, freelancer, or self-employed;Student, part-time', 'Employment_Employed, full-time;Independent contractor, freelancer, or self-employed;Student, part-time;Employed, part-time', 'Employment_Employed, full-time;Independent contractor, freelancer, or self-employed;Student, part-time;Retired', 'Employment_Employed, full-time;Not employed, and not looking for work', 'Employment_Employed, full-time;Not employed, but looking for work', 'Employment_Employed, full-time;Not employed, but looking for work;Employed, part-time', 'Employment_Employed, full-time;Not employed, but looking for work;Independent contractor, freelancer, or self-employed', 'Employment_Employed, full-time;Not employed, but looking for work;Independent contractor, freelancer, or self-employed;Employed, part-time', 'Employment_Employed, full-time;Not employed, but looking for work;Independent contractor, freelancer, or self-employed;Not employed, and not looking for work;Employed, part-time', 'Employment_Employed, full-time;Not employed, but looking for work;Not employed, and not looking for work;Employed, part-time', 'Employment_Employed, full-time;Not employed, but looking for work;Student, part-time', 'Employment_Employed, full-time;Retired', 'Employment_Employed, full-time;Student, full-time', 'Employment_Employed, full-time;Student, full-time;Employed, part-time', 'Employment_Employed, full-time;Student, full-time;Independent contractor, freelancer, or self-employed', 'Employment_Employed, full-time;Student, full-time;Independent contractor, freelancer, or self-employed;Employed, part-time', 'Employment_Employed, full-time;Student, full-time;Independent contractor, freelancer, or self-employed;Student, part-time;Employed, part-time', 'Employment_Employed, full-time;Student, full-time;Independent contractor, freelancer, or self-employed;Student, part-time;Employed, part-time;Retired', 'Employment_Employed, full-time;Student, full-time;Independent contractor, freelancer, or self-employed;Student, part-time;Retired', 'Employment_Employed, full-time;Student, full-time;Not employed, but looking for work', 'Employment_Employed, full-time;Student, full-time;Not employed, but looking for work;Independent contractor, freelancer, or self-employed', 'Employment_Employed, full-time;Student, full-time;Not employed, but looking for work;Independent contractor, freelancer, or self-employed;Employed, part-time', 'Employment_Employed, full-time;Student, full-time;Not employed, but looking for work;Independent contractor, freelancer, or self-employed;Not employed, and not looking for work;Student, part-time;Employed, part-time', 'Employment_Employed, full-time;Student, full-time;Not employed, but looking for work;Independent contractor, freelancer, or self-employed;Not employed, and not looking for work;Student, part-time;Employed, part-time;Retired', 'Employment_Employed, full-time;Student, full-time;Not employed, but looking for work;Independent contractor, freelancer, or self-employed;Student, part-time;Employed, part-time', 'Employment_Employed, full-time;Student, full-time;Not employed, but looking for work;Independent contractor, freelancer, or self-employed;Student, part-time;Employed, part-time;Retired', 'Employment_Employed, full-time;Student, full-time;Not employed, but looking for work;Student, part-time', 'Employment_Employed, full-time;Student, full-time;Not employed, but looking for work;Student, part-time;Employed, part-time', 'Employment_Employed, full-time;Student, full-time;Student, part-time', 'Employment_Employed, full-time;Student, full-time;Student, part-time;Employed, part-time', 'Employment_Employed, full-time;Student, part-time', 'Employment_Employed, full-time;Student, part-time;Employed, part-time', 'Employment_Employed, part-time', 'Employment_Employed, part-time;Retired', 'Employment_I prefer not to say', 'Employment_Independent contractor, freelancer, or self-employed', 'Employment_Independent contractor, freelancer, or self-employed;Employed, part-time', 'Employment_Independent contractor, freelancer, or self-employed;Employed, part-time;Retired', 'Employment_Independent contractor, freelancer, or self-employed;Not employed, and not looking for work', 'Employment_Independent contractor, freelancer, or self-employed;Not employed, and not looking for work;Employed, part-time', 'Employment_Independent contractor, freelancer, or self-employed;Not employed, and not looking for work;Retired', 'Employment_Independent contractor, freelancer, or self-employed;Not employed, and not looking for work;Student, part-time', 'Employment_Independent contractor, freelancer, or self-employed;Not employed, and not looking for work;Student, part-time;Retired', 'Employment_Independent contractor, freelancer, or self-employed;Retired', 'Employment_Independent contractor, freelancer, or self-employed;Student, part-time', 'Employment_Independent contractor, freelancer, or self-employed;Student, part-time;Employed, part-time', 'Employment_Independent contractor, freelancer, or self-employed;Student, part-time;Retired', 'Employment_Not employed, and not looking for work', 'Employment_Not employed, and not looking for work;Employed, part-time', 'Employment_Not employed, and not looking for work;Retired', 'Employment_Not employed, and not looking for work;Student, part-time', 'Employment_Not employed, and not looking for work;Student, part-time;Employed, part-time', 'Employment_Not employed, but looking for work', 'Employment_Not employed, but looking for work;Employed, part-time', 'Employment_Not employed, but looking for work;Independent contractor, freelancer, or self-employed', 'Employment_Not employed, but looking for work;Independent contractor, freelancer, or self-employed;Employed, part-time', 'Employment_Not employed, but looking for work;Independent contractor, freelancer, or self-employed;Not employed, and not looking for work', 'Employment_Not employed, but looking for work;Independent contractor, freelancer, or self-employed;Not employed, and not looking for work;Employed, part-time', 'Employment_Not employed, but looking for work;Independent contractor, freelancer, or self-employed;Not employed, and not looking for work;Retired', 'Employment_Not employed, but looking for work;Independent contractor, freelancer, or self-employed;Retired', 'Employment_Not employed, but looking for work;Independent contractor, freelancer, or self-employed;Student, part-time', 'Employment_Not employed, but looking for work;Independent contractor, freelancer, or self-employed;Student, part-time;Employed, part-time', 'Employment_Not employed, but looking for work;Independent contractor, freelancer, or self-employed;Student, part-time;Retired', 'Employment_Not employed, but looking for work;Not employed, and not looking for work', 'Employment_Not employed, but looking for work;Not employed, and not looking for work;Student, part-time', 'Employment_Not employed, but looking for work;Not employed, and not looking for work;Student, part-time;Employed, part-time', 'Employment_Not employed, but looking for work;Retired', 'Employment_Not employed, but looking for work;Student, part-time', 'Employment_Not employed, but looking for work;Student, part-time;Employed, part-time', 'Employment_Not employed, but looking for work;Student, part-time;Retired', 'Employment_Retired', 'Employment_Student, full-time', 'Employment_Student, full-time;Employed, part-time', 'Employment_Student, full-time;Independent contractor, freelancer, or self-employed', 'Employment_Student, full-time;Independent contractor, freelancer, or self-employed;Employed, part-time', 'Employment_Student, full-time;Independent contractor, freelancer, or self-employed;Employed, part-time;Retired', 'Employment_Student, full-time;Independent contractor, freelancer, or self-employed;Not employed, and not looking for work', 'Employment_Student, full-time;Independent contractor, freelancer, or self-employed;Student, part-time', 'Employment_Student, full-time;Independent contractor, freelancer, or self-employed;Student, part-time;Employed, part-time', 'Employment_Student, full-time;Not employed, and not looking for work', 'Employment_Student, full-time;Not employed, and not looking for work;Employed, part-time', 'Employment_Student, full-time;Not employed, and not looking for work;Student, part-time', 'Employment_Student, full-time;Not employed, but looking for work', 'Employment_Student, full-time;Not employed, but looking for work;Employed, part-time', 'Employment_Student, full-time;Not employed, but looking for work;Independent contractor, freelancer, or self-employed', 'Employment_Student, full-time;Not employed, but looking for work;Independent contractor, freelancer, or self-employed;Employed, part-time', 'Employment_Student, full-time;Not employed, but looking for work;Independent contractor, freelancer, or self-employed;Not employed, and not looking for work', 'Employment_Student, full-time;Not employed, but looking for work;Independent contractor, freelancer, or self-employed;Not employed, and not looking for work;Student, part-time', 'Employment_Student, full-time;Not employed, but looking for work;Independent contractor, freelancer, or self-employed;Student, part-time', 'Employment_Student, full-time;Not employed, but looking for work;Independent contractor, freelancer, or self-employed;Student, part-time;Employed, part-time;Retired', 'Employment_Student, full-time;Not employed, but looking for work;Not employed, and not looking for work', 'Employment_Student, full-time;Not employed, but looking for work;Not employed, and not looking for work;Student, part-time', 'Employment_Student, full-time;Not employed, but looking for work;Retired', 'Employment_Student, full-time;Not employed, but looking for work;Student, part-time', 'Employment_Student, full-time;Retired', 'Employment_Student, full-time;Student, part-time', 'Employment_Student, full-time;Student, part-time;Employed, part-time', 'Employment_Student, full-time;Student, part-time;Retired', 'Employment_Student, part-time', 'Employment_Student, part-time;Employed, part-time', 'Employment_Student, part-time;Retired']\n"
     ]
    }
   ],
   "source": [
    "# One-hot encode Employment column\n",
    "employment_dummies = pd.get_dummies(df['Employment'], prefix='Employment', drop_first=True)\n",
    "df = pd.concat([df, employment_dummies], axis=1)\n",
    "\n",
    "print(\"Encoded Employment Columns:\")\n",
    "print(employment_dummies.columns.tolist())"
   ]
  },
  {
   "cell_type": "markdown",
   "metadata": {},
   "source": [
    "### 5. Handling Missing Values\n"
   ]
  },
  {
   "cell_type": "markdown",
   "metadata": {},
   "source": [
    "<h5>5.1 Identify columns with the highest number of missing values.</h5>\n"
   ]
  },
  {
   "cell_type": "code",
   "execution_count": 8,
   "metadata": {},
   "outputs": [
    {
     "name": "stdout",
     "output_type": "stream",
     "text": [
      "🚨 Columns with Missing Values:\n",
      "AINextMuch less integrated    64289\n",
      "AINextLess integrated         63082\n",
      "AINextNo change               52939\n",
      "AINextMuch more integrated    51999\n",
      "EmbeddedAdmired               48704\n",
      "                              ...  \n",
      "YearsCode                      5568\n",
      "NEWSOSites                     5151\n",
      "LearnCode                      4949\n",
      "EdLevel                        4653\n",
      "AISelect                       4530\n",
      "Length: 109, dtype: int64\n"
     ]
    }
   ],
   "source": [
    "# Missing values report\n",
    "missing_report = df.isnull().sum().sort_values(ascending=False)\n",
    "missing_report = missing_report[missing_report > 0]\n",
    "print(\"🚨 Columns with Missing Values:\")\n",
    "print(missing_report)"
   ]
  },
  {
   "cell_type": "markdown",
   "metadata": {},
   "source": [
    "<h5>5.2 Impute missing values in numerical columns (e.g., `ConvertedCompYearly`) with the mean or median.</h5>\n"
   ]
  },
  {
   "cell_type": "code",
   "execution_count": 14,
   "metadata": {},
   "outputs": [
    {
     "name": "stdout",
     "output_type": "stream",
     "text": [
      "✅ Imputed ConvertedCompYearly with median: 65000.00\n",
      "✅ Imputed Age with median: 29.50\n",
      "\n",
      "Missing values after imputation:\n",
      "ConvertedCompYearly    0\n",
      "Age                    0\n",
      "dtype: int64\n"
     ]
    }
   ],
   "source": [
    "# First convert age ranges to numerical values (midpoint)\n",
    "age_mapping = {\n",
    "    'Under 18 years old': 17,\n",
    "    '18-24 years old': 21,\n",
    "    '25-34 years old': 29.5,\n",
    "    '35-44 years old': 39.5,\n",
    "    '45-54 years old': 49.5,\n",
    "    '55-64 years old': 59.5,\n",
    "    '65 years or older': 70\n",
    "}\n",
    "df['Age'] = df['Age'].map(age_mapping)\n",
    "\n",
    "# Now handle numerical imputation\n",
    "num_cols_to_impute = ['ConvertedCompYearly', 'Age']\n",
    "\n",
    "for col in num_cols_to_impute:\n",
    "    # Skip if column doesn't exist\n",
    "    if col not in df.columns:\n",
    "        print(f\"⚠️ Column '{col}' not found\")\n",
    "        continue\n",
    "        \n",
    "    # Convert to numeric if needed\n",
    "    if df[col].dtype == 'object':\n",
    "        df[col] = pd.to_numeric(df[col], errors='coerce')\n",
    "    \n",
    "    # Calculate median (skip if all values are NaN)\n",
    "    if df[col].isna().all():\n",
    "        print(f\"⚠️ Cannot impute '{col}' - all values are NaN\")\n",
    "        continue\n",
    "        \n",
    "    median_val = df[col].median()\n",
    "    df[col] = df[col].fillna(median_val)\n",
    "    print(f\"✅ Imputed {col} with median: {median_val:.2f}\")\n",
    "\n",
    "# Verification\n",
    "print(\"\\nMissing values after imputation:\")\n",
    "print(df[num_cols_to_impute].isnull().sum())"
   ]
  },
  {
   "cell_type": "markdown",
   "metadata": {},
   "source": [
    "<h5>5.3 Impute missing values in categorical columns (e.g., `RemoteWork`) with the most frequent value.</h5>\n"
   ]
  },
  {
   "cell_type": "code",
   "execution_count": 10,
   "metadata": {},
   "outputs": [
    {
     "name": "stdout",
     "output_type": "stream",
     "text": [
      "Imputed RemoteWork with mode: Hybrid (some remote, some in-person)\n",
      "Imputed EdLevel with mode: Bachelor’s degree (B.A., B.S., B.Eng., etc.)\n"
     ]
    }
   ],
   "source": [
    "# Impute categorical columns with mode\n",
    "cat_cols_to_impute = ['RemoteWork', 'EdLevel']\n",
    "for col in cat_cols_to_impute:\n",
    "    mode_val = df[col].mode()[0]\n",
    "    df[col] = df[col].fillna(mode_val)\n",
    "    print(f\"Imputed {col} with mode: {mode_val}\")"
   ]
  },
  {
   "cell_type": "markdown",
   "metadata": {},
   "source": [
    "### 6. Feature Scaling and Transformation\n"
   ]
  },
  {
   "cell_type": "markdown",
   "metadata": {},
   "source": [
    "<h5>6.1 Apply Min-Max Scaling to normalize the `ConvertedCompYearly` column.</h5>\n"
   ]
  },
  {
   "cell_type": "code",
   "execution_count": 11,
   "metadata": {},
   "outputs": [
    {
     "name": "stdout",
     "output_type": "stream",
     "text": [
      "Min-Max Scaling Results:\n",
      "       ConvertedCompYearly  ConvertedCompYearly_MinMax\n",
      "count             65437.00                    65437.00\n",
      "mean              72576.36                        0.00\n",
      "std              112220.68                        0.01\n",
      "min                   1.00                        0.00\n",
      "25%               65000.00                        0.00\n",
      "50%               65000.00                        0.00\n",
      "75%               65000.00                        0.00\n",
      "max            16256603.00                        1.00\n"
     ]
    }
   ],
   "source": [
    "# Manual Min-Max Scaling\n",
    "df['ConvertedCompYearly_MinMax'] = (\n",
    "    (df['ConvertedCompYearly'] - df['ConvertedCompYearly'].min()) / \n",
    "    (df['ConvertedCompYearly'].max() - df['ConvertedCompYearly'].min())\n",
    ")\n",
    "print(\"Min-Max Scaling Results:\")\n",
    "print(df[['ConvertedCompYearly', 'ConvertedCompYearly_MinMax']].describe().round(2))"
   ]
  },
  {
   "cell_type": "markdown",
   "metadata": {},
   "source": [
    "<h5>6.2 Log-transform the ConvertedCompYearly column to reduce skewness.</h5>\n"
   ]
  },
  {
   "cell_type": "code",
   "execution_count": 15,
   "metadata": {},
   "outputs": [
    {
     "name": "stdout",
     "output_type": "stream",
     "text": [
      "\n",
      "📊 Transformation Results:\n",
      "Original Skewness: 87.71\n",
      "Log Transformed Skewness: -4.28\n"
     ]
    },
    {
     "data": {
      "image/png": "[encoded data removed]",
      "text/plain": [
       "<Figure size 1200x500 with 2 Axes>"
      ]
     },
     "metadata": {},
     "output_type": "display_data"
    }
   ],
   "source": [
    "import numpy as np\n",
    "\n",
    "# 1. First ensure the column is numeric\n",
    "df['ConvertedCompYearly'] = pd.to_numeric(df['ConvertedCompYearly'], errors='coerce')\n",
    "\n",
    "# 2. Handle negative/zero values by adding constant (if any exist)\n",
    "min_comp = df['ConvertedCompYearly'].min()\n",
    "if min_comp <= 0:\n",
    "    offset = abs(min_comp) + 1  # Add enough to make all values > 0\n",
    "    print(f\"⚠️ Found {sum(df['ConvertedCompYearly'] <= 0)} non-positive values - adding offset of {offset}\")\n",
    "    df['ConvertedCompYearly'] = df['ConvertedCompYearly'] + offset\n",
    "\n",
    "# 3. Perform log transformation (using log1p for numerical stability)\n",
    "df['ConvertedCompYearly_Log'] = np.log1p(df['ConvertedCompYearly'])\n",
    "\n",
    "# 4. Verification\n",
    "print(\"\\n📊 Transformation Results:\")\n",
    "print(f\"Original Skewness: {df['ConvertedCompYearly'].skew():.2f}\")\n",
    "print(f\"Log Transformed Skewness: {df['ConvertedCompYearly_Log'].skew():.2f}\")\n",
    "\n",
    "# 5. Visualization\n",
    "import matplotlib.pyplot as plt\n",
    "\n",
    "plt.figure(figsize=(12, 5))\n",
    "\n",
    "plt.subplot(1, 2, 1)\n",
    "plt.hist(df['ConvertedCompYearly'], bins=30, color='blue', alpha=0.7)\n",
    "plt.title('Original Compensation')\n",
    "plt.xlabel('USD')\n",
    "plt.ylabel('Frequency')\n",
    "\n",
    "plt.subplot(1, 2, 2)\n",
    "plt.hist(df['ConvertedCompYearly_Log'], bins=30, color='green', alpha=0.7)\n",
    "plt.title('Log-Transformed Compensation')\n",
    "plt.xlabel('log(USD)')\n",
    "\n",
    "plt.tight_layout()\n",
    "plt.show()"
   ]
  },
  {
   "cell_type": "markdown",
   "metadata": {},
   "source": [
    "### 7. Feature Engineering\n"
   ]
  },
  {
   "cell_type": "markdown",
   "metadata": {},
   "source": [
    "<h5>7.1 Create a new column `ExperienceLevel` based on the `YearsCodePro` column:</h5>\n"
   ]
  },
  {
   "cell_type": "code",
   "execution_count": 18,
   "metadata": {
    "collapsed": true,
    "jupyter": {
     "outputs_hidden": true
    },
    "scrolled": true
   },
   "outputs": [
    {
     "name": "stdout",
     "output_type": "stream",
     "text": [
      "🧑💼 Experience Level Distribution:\n"
     ]
    },
    {
     "data": {
      "text/plain": [
       "ExperienceLevel\n",
       "Entry (0-2)         2639\n",
       "Junior (3-5)       11476\n",
       "Mid (6-10)         12928\n",
       "Senior (11-20)     13327\n",
       "Executive (20+)     8334\n",
       "Unknown            16733\n",
       "Name: count, dtype: int64"
      ]
     },
     "metadata": {},
     "output_type": "display_data"
    },
    {
     "data": {
      "image/png": "[encoded data removed]",
      "text/plain": [
       "<Figure size 1000x600 with 1 Axes>"
      ]
     },
     "metadata": {},
     "output_type": "display_data"
    },
    {
     "name": "stdout",
     "output_type": "stream",
     "text": [
      "\n",
      "💰 Median Compensation by Experience Level:\n"
     ]
    },
    {
     "name": "stderr",
     "output_type": "stream",
     "text": [
      "/tmp/ipykernel_1018/3201086884.py:39: FutureWarning: The default of observed=False is deprecated and will be changed to True in a future version of pandas. Pass observed=False to retain current behavior or observed=True to adopt the future default and silence this warning.\n",
      "  display(df.groupby('ExperienceLevel')['ConvertedCompYearly'].median().sort_values(ascending=False))\n"
     ]
    },
    {
     "data": {
      "text/plain": [
       "ExperienceLevel\n",
       "Entry (0-2)        65000.0\n",
       "Junior (3-5)       65000.0\n",
       "Mid (6-10)         65000.0\n",
       "Senior (11-20)     65000.0\n",
       "Executive (20+)    65000.0\n",
       "Unknown            65000.0\n",
       "Name: ConvertedCompYearly, dtype: float64"
      ]
     },
     "metadata": {},
     "output_type": "display_data"
    }
   ],
   "source": [
    "import seaborn as sns\n",
    "# 1. First ensure YearsCodePro is numeric\n",
    "df['YearsCodePro'] = pd.to_numeric(df['YearsCodePro'], errors='coerce')\n",
    "\n",
    "# 2. Create bins and labels\n",
    "experience_bins = [0, 2, 5, 10, 20, np.inf]\n",
    "experience_labels = ['Entry (0-2)', 'Junior (3-5)', 'Mid (6-10)', 'Senior (11-20)', 'Executive (20+)']\n",
    "\n",
    "# 3. Create new ExperienceLevel column\n",
    "df['ExperienceLevel'] = pd.cut(\n",
    "    df['YearsCodePro'],\n",
    "    bins=experience_bins,\n",
    "    labels=experience_labels,\n",
    "    right=False\n",
    ")\n",
    "\n",
    "# 4. Handle missing values (if YearsCodePro had NAs)\n",
    "df['ExperienceLevel'] = df['ExperienceLevel'].cat.add_categories('Unknown').fillna('Unknown')\n",
    "\n",
    "# 5. Verify distribution\n",
    "print(\"🧑💼 Experience Level Distribution:\")\n",
    "exp_dist = df['ExperienceLevel'].value_counts().sort_index()\n",
    "display(exp_dist)\n",
    "\n",
    "# 6. Visualization\n",
    "plt.figure(figsize=(10, 6))\n",
    "exp_dist.plot(kind='bar', color=sns.color_palette(\"viridis\", len(exp_dist)))\n",
    "plt.title('Developer Experience Levels', pad=20)\n",
    "plt.xlabel('Experience Category')\n",
    "plt.ylabel('Count')\n",
    "plt.xticks(rotation=45, ha='right')\n",
    "plt.grid(axis='y', alpha=0.3)\n",
    "plt.tight_layout()\n",
    "plt.show()\n",
    "\n",
    "# 7. Cross-check with compensation\n",
    "if 'ConvertedCompYearly' in df.columns:\n",
    "    print(\"\\n💰 Median Compensation by Experience Level:\")\n",
    "    display(df.groupby('ExperienceLevel')['ConvertedCompYearly'].median().sort_values(ascending=False))"
   ]
  },
  {
   "cell_type": "markdown",
   "metadata": {},
   "source": [
    "### Summary\n"
   ]
  },
  {
   "cell_type": "markdown",
   "metadata": {},
   "source": [
    "In this lab, you:\n",
    "\n",
    "- Explored the dataset to identify inconsistencies and missing values.\n",
    "\n",
    "- Encoded categorical variables for analysis.\n",
    "\n",
    "- Handled missing values using imputation techniques.\n",
    "\n",
    "- Normalized and transformed numerical data to prepare it for analysis.\n",
    "\n",
    "- Engineered a new feature to enhance data interpretation.\n"
   ]
  },
  {
   "cell_type": "markdown",
   "metadata": {},
   "source": [
    "Copyright © IBM Corporation. All rights reserved.\n"
   ]
  }
 ],
 "metadata": {
  "kernelspec": {
   "display_name": "Python 3 (ipykernel)",
   "language": "python",
   "name": "python3"
  },
  "language_info": {
   "codemirror_mode": {
    "name": "ipython",
    "version": 3
   },
   "file_extension": ".py",
   "mimetype": "text/x-python",
   "name": "python",
   "nbconvert_exporter": "python",
   "pygments_lexer": "ipython3",
   "version": "3.12.8"
  },
  "prev_pub_hash": "1e8e234f19fd098e27b0518a87f18de690e1c51f1d3263d5690927d19971251e"
 },
 "nbformat": 4,
 "nbformat_minor": 4
}
