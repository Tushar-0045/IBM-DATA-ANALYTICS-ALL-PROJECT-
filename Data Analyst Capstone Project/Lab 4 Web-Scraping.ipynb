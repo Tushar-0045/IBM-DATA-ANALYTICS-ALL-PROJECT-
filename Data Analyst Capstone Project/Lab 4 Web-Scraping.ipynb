{
 "cells": [
  {
   "cell_type": "markdown",
   "metadata": {},
   "source": [
    "<p style=\"text-align:center\">\n",
    "    <a href=\"https://skills.network/?utm_medium=Exinfluencer&utm_source=Exinfluencer&utm_content=000026UJ&utm_term=10006555&utm_id=NA-SkillsNetwork-Channel-SkillsNetworkCoursesIBMDA0321ENSkillsNetwork928-2022-01-01\" target=\"_blank\">\n",
    "    <img src=\"https://cf-courses-data.s3.us.cloud-object-storage.appdomain.cloud/assets/logos/SN_web_lightmode.png\" width=\"200\" alt=\"Skills Network Logo\"  />\n",
    "    </a>\n",
    "</p>\n"
   ]
  },
  {
   "cell_type": "markdown",
   "metadata": {},
   "source": [
    "# **Hands-on Lab : Web Scraping**\n"
   ]
  },
  {
   "cell_type": "markdown",
   "metadata": {},
   "source": [
    "Estimated time needed: **30 to 45** minutes\n"
   ]
  },
  {
   "cell_type": "markdown",
   "metadata": {},
   "source": [
    "## Objectives\n"
   ]
  },
  {
   "cell_type": "markdown",
   "metadata": {},
   "source": [
    "In this lab you will perform the following:\n"
   ]
  },
  {
   "cell_type": "markdown",
   "metadata": {},
   "source": [
    "* Extract information from a given web site \n",
    "* Write the scraped data into a csv file.\n"
   ]
  },
  {
   "cell_type": "markdown",
   "metadata": {},
   "source": [
    "## Extract information from the given web site\n",
    "You will extract the data from the below web site: <br> \n"
   ]
  },
  {
   "cell_type": "code",
   "execution_count": 1,
   "metadata": {
    "tags": []
   },
   "outputs": [],
   "source": [
    "#this url contains the data you need to scrape\n",
    "url = \"https://cf-courses-data.s3.us.cloud-object-storage.appdomain.cloud/IBM-DA0321EN-SkillsNetwork/labs/datasets/Programming_Languages.html\""
   ]
  },
  {
   "cell_type": "code",
   "execution_count": 1,
   "metadata": {
    "tags": []
   },
   "outputs": [],
   "source": [
    "#this url contains the data you need to scrape\n",
    "url = \"https://cf-courses-data.s3.us.cloud-object-storage.appdomain.cloud/IBM-DA0321EN-SkillsNetwork/labs/datasets/Programming_Languages.html\""
   ]
  },
  {
   "cell_type": "markdown",
   "metadata": {},
   "source": [
    "The data you need to scrape is the **name of the programming language** and **average annual salary**.<br> It is a good idea to open the url in your web broswer and study the contents of the web page before you start to scrape.\n"
   ]
  },
  {
   "cell_type": "markdown",
   "metadata": {},
   "source": [
    "Import the required libraries\n"
   ]
  },
  {
   "cell_type": "markdown",
   "metadata": {},
   "source": [
    "# Your code here"
   ]
  },
  {
   "cell_type": "markdown",
   "metadata": {},
   "source": [
    "Download the webpage at the url\n"
   ]
  },
  {
   "cell_type": "code",
   "execution_count": 4,
   "metadata": {
    "tags": []
   },
   "outputs": [
    {
     "name": "stdout",
     "output_type": "stream",
     "text": [
      "  Programming Language Average Annual Salary\n",
      "0               Python              $114,383\n",
      "1                 Java              $101,013\n",
      "2                    R               $92,037\n",
      "3           Javascript              $110,981\n",
      "4                Swift              $130,801\n",
      "5                  C++              $113,865\n",
      "6                   C#               $88,726\n",
      "7                  PHP               $84,727\n",
      "8                  SQL               $84,793\n",
      "9                   Go               $94,082\n",
      "\n",
      "Data saved to 'programming_languages_salaries.csv'\n"
     ]
    }
   ],
   "source": [
    "import requests\n",
    "from bs4 import BeautifulSoup\n",
    "import pandas as pd\n",
    "\n",
    "# URL of the webpage to scrape\n",
    "url = \"https://cf-courses-data.s3.us.cloud-object-storage.appdomain.cloud/IBM-DA0321EN-SkillsNetwork/labs/datasets/Programming_Languages.html\"\n",
    "# 1. Download the webpage\n",
    "try:\n",
    "    response = requests.get(url)\n",
    "    response.raise_for_status()  # Check for HTTP errors\n",
    "    \n",
    "    # 2. Create BeautifulSoup object\n",
    "    soup = BeautifulSoup(response.text, 'html.parser')\n",
    "    \n",
    "    # 3. Find the table containing the data\n",
    "    table = soup.find('table')\n",
    "    \n",
    "    # 4. Extract data from table rows (skip header row)\n",
    "    languages = []\n",
    "    salaries = []\n",
    "    \n",
    "    for row in table.find_all('tr')[1:]:  # Skip header row\n",
    "        cols = row.find_all('td')\n",
    "        languages.append(cols[1].get_text())  # Language name is in 2nd column\n",
    "        salaries.append(cols[3].get_text())   # Salary is in 4th column\n",
    "    \n",
    "    # 5. Create a DataFrame\n",
    "    data = {\n",
    "        'Programming Language': languages,\n",
    "        'Average Annual Salary': salaries\n",
    "    }\n",
    "    df = pd.DataFrame(data)\n",
    "    \n",
    "    # 6. Display the results\n",
    "    print(df)\n",
    "    \n",
    "    # Optional: Save to CSV\n",
    "    df.to_csv('programming_languages_salaries.csv', index=False)\n",
    "    print(\"\\nData saved to 'programming_languages_salaries.csv'\")\n",
    "\n",
    "except requests.exceptions.RequestException as e:\n",
    "    print(f\"Error fetching the webpage: {e}\")\n",
    "except Exception as e:\n",
    "    print(f\"An error occurred: {e}\")"
   ]
  },
  {
   "cell_type": "markdown",
   "metadata": {},
   "source": [
    "Create a soup object\n"
   ]
  },
  {
   "cell_type": "code",
   "execution_count": 6,
   "metadata": {
    "tags": []
   },
   "outputs": [
    {
     "name": "stdout",
     "output_type": "stream",
     "text": [
      "Data successfully saved to 'popular-languages.csv'\n",
      "\n",
      "Scraped Data:\n",
      "  Programming Language Average Annual Salary\n",
      "0               Python              $114,383\n",
      "1                 Java              $101,013\n",
      "2                    R               $92,037\n",
      "3           Javascript              $110,981\n",
      "4                Swift              $130,801\n",
      "5                  C++              $113,865\n",
      "6                   C#               $88,726\n",
      "7                  PHP               $84,727\n",
      "8                  SQL               $84,793\n",
      "9                   Go               $94,082\n"
     ]
    }
   ],
   "source": [
    "import requests\n",
    "from bs4 import BeautifulSoup\n",
    "import pandas as pd\n",
    "\n",
    "# URL of the webpage to scrape\n",
    "url = \"https://cf-courses-data.s3.us.cloud-object-storage.appdomain.cloud/IBM-DA0321EN-SkillsNetwork/labs/datasets/Programming_Languages.html\"\n",
    "\n",
    "try:\n",
    "    # 1. Download the webpage\n",
    "    response = requests.get(url)\n",
    "    response.raise_for_status()  # Check for HTTP errors\n",
    "    \n",
    "    # 2. Create BeautifulSoup object\n",
    "    soup = BeautifulSoup(response.text, 'html.parser')\n",
    "    \n",
    "    # 3. Find the table containing the data\n",
    "    table = soup.find('table')\n",
    "    \n",
    "    # 4. Initialize lists to store data\n",
    "    languages = []\n",
    "    salaries = []\n",
    "    \n",
    "    # 5. Extract data from table rows (skip header row)\n",
    "    for row in table.find_all('tr')[1:]:  # [1:] skips the header row\n",
    "        cols = row.find_all('td')\n",
    "        if len(cols) >= 4:  # Ensure row has enough columns\n",
    "            languages.append(cols[1].get_text(strip=True))  # Language name (2nd column)\n",
    "            salaries.append(cols[3].get_text(strip=True))   # Salary (4th column)\n",
    "    \n",
    "    # 6. Create a DataFrame and save to CSV\n",
    "    df = pd.DataFrame({\n",
    "        'Programming Language': languages,\n",
    "        'Average Annual Salary': salaries\n",
    "    })\n",
    "    \n",
    "    # Save to CSV file\n",
    "    df.to_csv('popular-languages.csv', index=False)\n",
    "    print(\"Data successfully saved to 'popular-languages.csv'\")\n",
    "    \n",
    "    # Display the scraped data\n",
    "    print(\"\\nScraped Data:\")\n",
    "    print(df)\n",
    "\n",
    "except requests.exceptions.RequestException as e:\n",
    "    print(f\"Error fetching the webpage: {e}\")\n",
    "except Exception as e:\n",
    "    print(f\"An error occurred: {e}\")"
   ]
  },
  {
   "cell_type": "markdown",
   "metadata": {},
   "source": [
    "Save the scrapped data into a file named *popular-languages.csv*\n"
   ]
  },
  {
   "cell_type": "code",
   "execution_count": null,
   "metadata": {},
   "outputs": [],
   "source": [
    "# your code goes here"
   ]
  },
  {
   "cell_type": "markdown",
   "metadata": {},
   "source": [
    "## Authors\n"
   ]
  },
  {
   "cell_type": "markdown",
   "metadata": {},
   "source": [
    "Ramesh Sannareddy\n"
   ]
  },
  {
   "cell_type": "markdown",
   "metadata": {},
   "source": [
    "### Other Contributors\n"
   ]
  },
  {
   "cell_type": "markdown",
   "metadata": {},
   "source": [
    "Rav Ahuja\n"
   ]
  },
  {
   "cell_type": "markdown",
   "metadata": {},
   "source": [
    "## Change Log\n"
   ]
  },
  {
   "cell_type": "markdown",
   "metadata": {},
   "source": [
    "|  Date (YYYY-MM-DD) |  Version | Changed By  |  Change Description |\n",
    "|---|---|---|---|\n",
    "| 2020-10-17  | 0.1  | Ramesh Sannareddy  |  Created initial version of the lab |\n"
   ]
  },
  {
   "cell_type": "markdown",
   "metadata": {},
   "source": [
    " Copyright &copy; 2020 IBM Corporation. This notebook and its source code are released under the terms of the [MIT License](https://cognitiveclass.ai/mit-license/?utm_medium=Exinfluencer&utm_source=Exinfluencer&utm_content=000026UJ&utm_term=10006555&utm_id=NA-SkillsNetwork-Channel-SkillsNetworkCoursesIBMDA0321ENSkillsNetwork928-2022-01-01).\n"
   ]
  }
 ],
 "metadata": {
  "kernelspec": {
   "display_name": "Python",
   "language": "python",
   "name": "conda-env-python-py"
  },
  "language_info": {
   "codemirror_mode": {
    "name": "ipython",
    "version": 3
   },
   "file_extension": ".py",
   "mimetype": "text/x-python",
   "name": "python",
   "nbconvert_exporter": "python",
   "pygments_lexer": "ipython3",
   "version": "3.7.12"
  }
 },
 "nbformat": 4,
 "nbformat_minor": 4
}
